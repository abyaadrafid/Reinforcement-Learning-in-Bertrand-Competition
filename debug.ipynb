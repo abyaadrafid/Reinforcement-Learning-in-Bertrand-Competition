{
 "cells": [
  {
   "cell_type": "code",
   "execution_count": 8,
   "metadata": {},
   "outputs": [
    {
     "name": "stdout",
     "output_type": "stream",
     "text": [
      "Successfully added technical indicators\n",
      "[*********************100%%**********************]  1 of 1 completed\n",
      "Shape of DataFrame:  (3310, 8)\n",
      "Successfully added vix\n",
      "Successfully added turbulence index\n"
     ]
    },
    {
     "name": "stderr",
     "output_type": "stream",
     "text": [
      "/home/abyaadrafid/anaconda3/envs/RLAC/lib/python3.10/site-packages/finrl/meta/preprocessor/preprocessors.py:106: FutureWarning: DataFrame.fillna with 'method' is deprecated and will raise in a future version. Use obj.ffill() or obj.bfill() instead.\n",
      "  df = df.fillna(method=\"ffill\").fillna(method=\"bfill\")\n",
      "/home/abyaadrafid/Desktop/TUM/thesis/utils/preprocess.py:36: FutureWarning: DataFrame.fillna with 'method' is deprecated and will raise in a future version. Use obj.ffill() or obj.bfill() instead.\n",
      "  processed_full = processed_full.fillna(method=\"bfill\")\n"
     ]
    }
   ],
   "source": [
    "from utils.preprocess import process_dataset\n",
    "from utils.env_setup import get_stock_env\n",
    "from environments.MutliAgentStockTradingEnv import MultiAgentStockTradingEnv\n",
    "train, valid = process_dataset()"
   ]
  },
  {
   "cell_type": "code",
   "execution_count": 61,
   "metadata": {},
   "outputs": [],
   "source": [
    "from typing import Dict, Optional\n",
    "\n",
    "import gym\n",
    "from ray.rllib.env.multi_agent_env import MultiAgentEnv\n",
    "from stable_baselines3.common.vec_env.dummy_vec_env import DummyVecEnv\n",
    "from ray.rllib.utils import override\n",
    "import random\n",
    "\n",
    "class MultiAgentStockTradingEnv(MultiAgentEnv, gym.Env):\n",
    "\n",
    "    NAME = \"MultiAgentStockTradingEnv\"\n",
    "    NUM_ACTIONS = None\n",
    "    NUM_AGENTS = 2\n",
    "\n",
    "    def __init__(self, env:DummyVecEnv):\n",
    "        self.base_env = env\n",
    "    \n",
    "    @override(gym.Env)\n",
    "    def step(self, actions:Dict, agent_id:list):\n",
    "        state, rewards, dones = self.execute_actions(actions, agent_id)\n",
    "        return state, rewards, dones, {}\n",
    "    \n",
    "    def execute_actions(self, actions:Dict, agent_id:list):\n",
    "        random.shuffle(agent_id)\n",
    "        \n",
    "        dones = []\n",
    "        rewards = []\n",
    "        for agent in agent_id:\n",
    "            state, reward, done, _ = self.base_env.step(actions[agent])\n",
    "            rewards.append(reward)\n",
    "            dones.append(done)\n",
    "        return state, rewards, dones"
   ]
  },
  {
   "cell_type": "code",
   "execution_count": 62,
   "metadata": {},
   "outputs": [],
   "source": [
    "env = get_stock_env(train)\n",
    "marlenv = MultiAgentStockTradingEnv(env)"
   ]
  },
  {
   "cell_type": "code",
   "execution_count": 63,
   "metadata": {},
   "outputs": [
    {
     "name": "stdout",
     "output_type": "stream",
     "text": [
      "Using cpu device\n",
      "Using cpu device\n"
     ]
    }
   ],
   "source": [
    "from stable_baselines3 import A2C\n",
    "agent1 = A2C(\"MlpPolicy\", env, verbose=1)\n",
    "agent2 = A2C(\"MlpPolicy\", env, verbose=1)"
   ]
  },
  {
   "cell_type": "code",
   "execution_count": 64,
   "metadata": {},
   "outputs": [],
   "source": [
    "actions1, states = agent1.predict(env.reset())\n",
    "actions2, states = agent2.predict(env.reset())"
   ]
  },
  {
   "cell_type": "code",
   "execution_count": 75,
   "metadata": {},
   "outputs": [],
   "source": [
    "import numpy as np\n",
    "actions=np.stack(([actions1,actions2]),axis=0)"
   ]
  },
  {
   "cell_type": "code",
   "execution_count": 77,
   "metadata": {},
   "outputs": [
    {
     "data": {
      "text/plain": [
       "(1, 29)"
      ]
     },
     "execution_count": 77,
     "metadata": {},
     "output_type": "execute_result"
    }
   ],
   "source": [
    "actions[0].shape"
   ]
  },
  {
   "cell_type": "code",
   "execution_count": 80,
   "metadata": {},
   "outputs": [],
   "source": [
    "agent_id = [0,1]\n",
    "states, rewards, dones, _ = marlenv.step(actions, agent_id)"
   ]
  },
  {
   "cell_type": "code",
   "execution_count": 34,
   "metadata": {},
   "outputs": [],
   "source": [
    "random.shuffle(agent_id)"
   ]
  },
  {
   "cell_type": "code",
   "execution_count": 35,
   "metadata": {},
   "outputs": [
    {
     "data": {
      "text/plain": [
       "[1, 0]"
      ]
     },
     "execution_count": 35,
     "metadata": {},
     "output_type": "execute_result"
    }
   ],
   "source": [
    "agent_id"
   ]
  },
  {
   "cell_type": "code",
   "execution_count": 81,
   "metadata": {},
   "outputs": [
    {
     "data": {
      "text/plain": [
       "[array([0.01182447], dtype=float32), array([-0.32305568], dtype=float32)]"
      ]
     },
     "execution_count": 81,
     "metadata": {},
     "output_type": "execute_result"
    }
   ],
   "source": [
    "rewards"
   ]
  },
  {
   "cell_type": "code",
   "execution_count": null,
   "metadata": {},
   "outputs": [],
   "source": []
  }
 ],
 "metadata": {
  "kernelspec": {
   "display_name": "RLAC",
   "language": "python",
   "name": "python3"
  },
  "language_info": {
   "codemirror_mode": {
    "name": "ipython",
    "version": 3
   },
   "file_extension": ".py",
   "mimetype": "text/x-python",
   "name": "python",
   "nbconvert_exporter": "python",
   "pygments_lexer": "ipython3",
   "version": "3.10.13"
  },
  "orig_nbformat": 4
 },
 "nbformat": 4,
 "nbformat_minor": 2
}
