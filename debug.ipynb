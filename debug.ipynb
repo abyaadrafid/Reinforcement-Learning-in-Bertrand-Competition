{
 "cells": [
  {
   "cell_type": "code",
   "execution_count": 99,
   "metadata": {},
   "outputs": [
    {
     "data": {
      "text/plain": [
       "(array([1.47292666, 1.47292666]), array([1.92498092, 1.92498092]))"
      ]
     },
     "execution_count": 99,
     "metadata": {},
     "output_type": "execute_result"
    }
   ],
   "source": [
    "import numpy as np\n",
    "from random import randint\n",
    "from scipy.optimize import fsolve\n",
    "from utils.demand_functions import LogitDemand\n",
    "demandfn = LogitDemand({\n",
    "    \"a0\":0,\n",
    "    \"cost\": 1,\n",
    "    \"mu\":0.25,\n",
    "    \"a\": 2\n",
    "})\n",
    "\n",
    "def foc(p):\n",
    "    \"\"\"Compute first order condition\"\"\"\n",
    "    d = demandfn.demand(p)\n",
    "    zero = 1 - (p - demandfn.cost) * (1 - d) / demandfn.mu\n",
    "    return np.squeeze(zero)\n",
    "\n",
    "def foc_monopoly(p):\n",
    "    \"\"\"Compute first order condition of a monopolist\"\"\"\n",
    "    d = demandfn.demand(p)\n",
    "    d1 = np.flip(d)\n",
    "    p1 = np.flip(p)\n",
    "    zero = 1 - (p - demandfn.cost) * (1 - d) / demandfn.mu + (p1 - demandfn.cost) * d1 / demandfn.mu\n",
    "    return np.squeeze(zero)\n",
    "def compute_p_competitive_monopoly():\n",
    "    \"\"\"Computes competitive and monopoly prices\"\"\"\n",
    "    p0 = np.ones((1, 2)) * 1 * demandfn.cost\n",
    "    p_competitive = fsolve(foc, p0)\n",
    "    p_monopoly = fsolve(foc_monopoly, p0)\n",
    "    return p_competitive, p_monopoly\n",
    "compute_p_competitive_monopoly()"
   ]
  },
  {
   "cell_type": "code",
   "execution_count": 1,
   "metadata": {},
   "outputs": [],
   "source": [
    "from gymnasium.spaces.discrete import Discrete"
   ]
  },
  {
   "cell_type": "code",
   "execution_count": 141,
   "metadata": {},
   "outputs": [
    {
     "data": {
      "text/plain": [
       "({'agent0': array([1.71116908, 1.88788407, 1.59788827, 1.92844323, 1.5161056 ,\n",
       "         1.89953563, 1.60915439, 1.7088085 , 1.56447591, 1.96775915]),\n",
       "  'agent1': array([1.71116908, 1.88788407, 1.59788827, 1.92844323, 1.5161056 ,\n",
       "         1.89953563, 1.60915439, 1.7088085 , 1.56447591, 1.96775915])},\n",
       " {'agent0': {}, 'agent1': {}})"
      ]
     },
     "execution_count": 141,
     "metadata": {},
     "output_type": "execute_result"
    }
   ],
   "source": [
    "from environments.SimpleOligopolyEnv import SimpleOligopolyEnv\n",
    "\n",
    "env_conf = {\n",
    "    \"max_price\" : 10,\n",
    "    \"min_price\" : 0,\n",
    "    \"num_sellers\" : 2,\n",
    "    \"memory_size\" : 5,\n",
    "    \"action_type\" : \"disc\",\n",
    "    \"disc_action_size\" : 6,\n",
    "    \"max_steps\" : 10,\n",
    "    \"agent_ids\" : [\"agent0\", \"agent1\"],\n",
    "    \"market\" :{\n",
    "    \"demand_type\" : \"Logit\",\n",
    "        \"logit\" : {\n",
    "        \"a0\" : 0,\n",
    "        \"cost\" : 1,\n",
    "        \"mu\" : 0.25,\n",
    "        \"a\" : 2,\n",
    "        },\n",
    "        \"linear\" : None\n",
    "    },\n",
    "    \"action_space\": Discrete(6)\n",
    "}\n",
    "env = SimpleOligopolyEnv(seed = 0 , config=env_conf)\n",
    "env.reset()"
   ]
  },
  {
   "cell_type": "code",
   "execution_count": 180,
   "metadata": {},
   "outputs": [
    {
     "data": {
      "text/plain": [
       "({'agent0': array([1.56447591, 1.96775915, 1.53621426, 1.42772123, 1.97018634,\n",
       "         1.42772123, 1.97018634, 1.97018634, 1.86169332, 1.97018634]),\n",
       "  'agent1': array([1.56447591, 1.96775915, 1.53621426, 1.42772123, 1.97018634,\n",
       "         1.42772123, 1.97018634, 1.97018634, 1.86169332, 1.97018634])},\n",
       " {'agent0': 0.28277424, 'agent1': 0.38762257},\n",
       " {'agent0': False, 'agent1': False, '__all__': False},\n",
       " {'agent0': False, 'agent1': False, '__all__': False},\n",
       " {'agent0': {}, 'agent1': {}})"
      ]
     },
     "execution_count": 180,
     "metadata": {},
     "output_type": "execute_result"
    }
   ],
   "source": [
    "env.step({\"agent0\":5, \"agent1\":4})"
   ]
  },
  {
   "cell_type": "code",
   "execution_count": 182,
   "metadata": {},
   "outputs": [
    {
     "data": {
      "text/plain": [
       "array([1.42772123, 1.53621426, 1.64470728, 1.7532003 , 1.86169332,\n",
       "       1.97018634])"
      ]
     },
     "execution_count": 182,
     "metadata": {},
     "output_type": "execute_result"
    }
   ],
   "source": [
    "env.possible_actions"
   ]
  },
  {
   "cell_type": "code",
   "execution_count": 183,
   "metadata": {},
   "outputs": [],
   "source": [
    "def br_profits(prices, a, a0, mu, cost, index, p_index):\n",
    "    prices[index]=p_index\n",
    "    utility = np.exp((a - prices) / mu)\n",
    "    demand = utility / (np.sum(utility) + np.exp(a0 / mu))\n",
    "    profits = (prices - cost) * demand\n",
    "    return profits[index]"
   ]
  },
  {
   "cell_type": "code",
   "execution_count": 187,
   "metadata": {},
   "outputs": [],
   "source": [
    "def obj_func(p_index):\n",
    "    prices = env.get_last_prices()\n",
    "    prices = prices.copy()\n",
    "    return -br_profits(prices, 2,0,0.25,1,1,p_index)"
   ]
  },
  {
   "cell_type": "code",
   "execution_count": 188,
   "metadata": {},
   "outputs": [
    {
     "name": "stderr",
     "output_type": "stream",
     "text": [
      "/tmp/ipykernel_32565/2650556334.py:2: DeprecationWarning: Conversion of an array with ndim > 0 to a scalar is deprecated, and will error in future. Ensure you extract a single element from your array before performing this operation. (Deprecated NumPy 1.25.)\n",
      "  prices[index]=p_index\n"
     ]
    }
   ],
   "source": [
    "from scipy.optimize import minimize\n",
    "pj = minimize(obj_func, [1.0], method='L-BFGS-B')"
   ]
  },
  {
   "cell_type": "code",
   "execution_count": 189,
   "metadata": {},
   "outputs": [
    {
     "data": {
      "text/plain": [
       "1.6381392964675354"
      ]
     },
     "execution_count": 189,
     "metadata": {},
     "output_type": "execute_result"
    }
   ],
   "source": [
    "pj.x[0]"
   ]
  },
  {
   "cell_type": "code",
   "execution_count": null,
   "metadata": {},
   "outputs": [],
   "source": []
  }
 ],
 "metadata": {
  "kernelspec": {
   "display_name": "RLAC",
   "language": "python",
   "name": "python3"
  },
  "language_info": {
   "codemirror_mode": {
    "name": "ipython",
    "version": 3
   },
   "file_extension": ".py",
   "mimetype": "text/x-python",
   "name": "python",
   "nbconvert_exporter": "python",
   "pygments_lexer": "ipython3",
   "version": "3.10.13"
  },
  "orig_nbformat": 4
 },
 "nbformat": 4,
 "nbformat_minor": 2
}
