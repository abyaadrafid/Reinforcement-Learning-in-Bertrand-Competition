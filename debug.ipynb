{
 "cells": [
  {
   "cell_type": "code",
   "execution_count": 1,
   "metadata": {},
   "outputs": [
    {
     "data": {
      "text/plain": [
       "(array([1.47292666, 1.47292666]), array([1.92498092, 1.92498092]))"
      ]
     },
     "execution_count": 1,
     "metadata": {},
     "output_type": "execute_result"
    }
   ],
   "source": [
    "import numpy as np\n",
    "from random import randint\n",
    "from scipy.optimize import fsolve\n",
    "from utils.demand_functions import LogitDemand\n",
    "demandfn = LogitDemand({\n",
    "    \"a0\":0,\n",
    "    \"cost\": 1,\n",
    "    \"mu\":0.25,\n",
    "    \"a\": 2\n",
    "})\n",
    "\n",
    "def foc(p):\n",
    "    \"\"\"Compute first order condition\"\"\"\n",
    "    d = demandfn.demand(p)\n",
    "    zero = 1 - (p - demandfn.cost) * (1 - d) / demandfn.mu\n",
    "    return np.squeeze(zero)\n",
    "\n",
    "def foc_monopoly(p):\n",
    "    \"\"\"Compute first order condition of a monopolist\"\"\"\n",
    "    d = demandfn.demand(p)\n",
    "    d1 = np.flip(d)\n",
    "    p1 = np.flip(p)\n",
    "    zero = 1 - (p - demandfn.cost) * (1 - d) / demandfn.mu + (p1 - demandfn.cost) * d1 / demandfn.mu\n",
    "    return np.squeeze(zero)\n",
    "def compute_p_competitive_monopoly():\n",
    "    \"\"\"Computes competitive and monopoly prices\"\"\"\n",
    "    p0 = np.ones((1, 2)) * 1 * demandfn.cost\n",
    "    p_competitive = fsolve(foc, p0)\n",
    "    p_monopoly = fsolve(foc_monopoly, p0)\n",
    "    return p_competitive, p_monopoly\n",
    "compute_p_competitive_monopoly()"
   ]
  },
  {
   "cell_type": "code",
   "execution_count": 2,
   "metadata": {},
   "outputs": [],
   "source": [
    "from gymnasium.spaces.box import Box\n",
    "from gymnasium.spaces.discrete import Discrete"
   ]
  },
  {
   "cell_type": "code",
   "execution_count": 3,
   "metadata": {},
   "outputs": [
    {
     "name": "stderr",
     "output_type": "stream",
     "text": [
      "2023-10-21 03:05:26,070\tWARNING deprecation.py:50 -- DeprecationWarning: `DirectStepOptimizer` has been deprecated. This will raise an error in the future!\n"
     ]
    },
    {
     "data": {
      "text/plain": [
       "({'agent0': array([1.56839255, 1.49715045, 1.0837855 , 2.22123056, 1.53417308,\n",
       "         1.95417645, 1.41858114, 1.33589363, 1.65490475, 1.43980809]),\n",
       "  'agent1': array([1.56839255, 1.49715045, 1.0837855 , 2.22123056, 1.53417308,\n",
       "         1.95417645, 1.41858114, 1.33589363, 1.65490475, 1.43980809])},\n",
       " {'agent0': {}, 'agent1': {}})"
      ]
     },
     "execution_count": 3,
     "metadata": {},
     "output_type": "execute_result"
    }
   ],
   "source": [
    "from environments.SimpleOligopolyEnv import SimpleOligopolyEnv\n",
    "\n",
    "env_conf = {\n",
    "    \"max_price\" : 2,\n",
    "    \"min_price\" : 0,\n",
    "    \"num_sellers\" : 2,\n",
    "    \"memory_size\" : 5,\n",
    "    \"action_type\" : \"disc\",\n",
    "    \"disc_action_size\" : 5,\n",
    "    \"max_steps\" : 10,\n",
    "    \"agent_ids\" : [\"agent0\", \"agent1\"],\n",
    "    \"market\" :{\n",
    "    \"demand_type\" : \"Logit\",\n",
    "        \"logit\" : {\n",
    "        \"a0\" : 0,\n",
    "        \"cost\" : 1,\n",
    "        \"mu\" : 0.25,\n",
    "        \"a\" : 2,\n",
    "        },\n",
    "        \"linear\" : None\n",
    "    },\n",
    "    \"action_space\": Discrete(5)\n",
    "}\n",
    "env = SimpleOligopolyEnv(seed = 0 , config=env_conf)\n",
    "env.reset()"
   ]
  },
  {
   "cell_type": "code",
   "execution_count": 3,
   "metadata": {},
   "outputs": [
    {
     "data": {
      "text/plain": [
       "({'agent0': array([1.38237652, 1.93292072, 1.25659337, 2.16379079, 1.76177751,\n",
       "         1.22317203, 1.28715066, 1.19606895, 2.37703518, 2.37703518]),\n",
       "  'agent1': array([1.38237652, 1.93292072, 1.25659337, 2.16379079, 1.76177751,\n",
       "         1.22317203, 1.28715066, 1.19606895, 2.37703518, 2.37703518])},\n",
       " {'agent0': 0.2112561, 'agent1': 0.2112561},\n",
       " {'agent0': False, 'agent1': False, '__all__': False},\n",
       " {'agent0': False, 'agent1': False, '__all__': False},\n",
       " {'agent0': {}, 'agent1': {}})"
      ]
     },
     "execution_count": 3,
     "metadata": {},
     "output_type": "execute_result"
    }
   ],
   "source": [
    "env.step({\"agent0\":4, \"agent1\":4})"
   ]
  },
  {
   "cell_type": "code",
   "execution_count": 4,
   "metadata": {},
   "outputs": [
    {
     "data": {
      "text/plain": [
       "array([[2.37703518],\n",
       "       [2.37703518]])"
      ]
     },
     "execution_count": 4,
     "metadata": {},
     "output_type": "execute_result"
    }
   ],
   "source": [
    "env.get_last_prices()"
   ]
  },
  {
   "cell_type": "code",
   "execution_count": 6,
   "metadata": {},
   "outputs": [],
   "source": [
    "all_price = []\n",
    "for _ in range(10):\n",
    "    env.step({\"agent0\":randint(0,4), \"agent1\":randint(0,4)})\n",
    "    all_price.append({\"price\":env.get_last_prices()})"
   ]
  },
  {
   "cell_type": "code",
   "execution_count": 7,
   "metadata": {},
   "outputs": [
    {
     "data": {
      "text/plain": [
       "[{'price': array([1.3599131, 1.3599131])},\n",
       " {'price': array([1.69895379, 1.69895379])},\n",
       " {'price': array([1.69895379, 1.3599131 ])},\n",
       " {'price': array([2.37703518, 1.3599131 ])},\n",
       " {'price': array([1.0208724 , 1.69895379])},\n",
       " {'price': array([1.3599131 , 2.37703518])},\n",
       " {'price': array([2.37703518, 1.3599131 ])},\n",
       " {'price': array([1.69895379, 1.3599131 ])},\n",
       " {'price': array([2.03799448, 1.3599131 ])},\n",
       " {'price': array([1.69895379, 2.37703518])}]"
      ]
     },
     "execution_count": 7,
     "metadata": {},
     "output_type": "execute_result"
    }
   ],
   "source": [
    "all_price"
   ]
  },
  {
   "cell_type": "code",
   "execution_count": 9,
   "metadata": {},
   "outputs": [
    {
     "data": {
      "text/plain": [
       "array([1.83457007, 1.76676193])"
      ]
     },
     "execution_count": 9,
     "metadata": {},
     "output_type": "execute_result"
    }
   ],
   "source": [
    "np.mean([step_prices['price'] for step_prices in all_price[-5:]],axis=0)"
   ]
  },
  {
   "cell_type": "code",
   "execution_count": null,
   "metadata": {},
   "outputs": [],
   "source": []
  }
 ],
 "metadata": {
  "kernelspec": {
   "display_name": "RLAC",
   "language": "python",
   "name": "python3"
  },
  "language_info": {
   "codemirror_mode": {
    "name": "ipython",
    "version": 3
   },
   "file_extension": ".py",
   "mimetype": "text/x-python",
   "name": "python",
   "nbconvert_exporter": "python",
   "pygments_lexer": "ipython3",
   "version": "3.10.13"
  },
  "orig_nbformat": 4
 },
 "nbformat": 4,
 "nbformat_minor": 2
}
